{
 "cells": [
  {
   "cell_type": "code",
   "execution_count": 1,
   "metadata": {},
   "outputs": [
    {
     "data": {
      "text/plain": [
       "0.07142857142857142"
      ]
     },
     "execution_count": 1,
     "metadata": {},
     "output_type": "execute_result"
    }
   ],
   "source": [
    "#1) 4 blue, 2 red, and 3 black,..\n",
    "#Pr = No of ways it can happen / no of possible outcomes\n",
    "#The possible outcome is 4+2+3 = 9.....probability of drawing 1 blue pen= 4/9,...\n",
    "#probability of drawing another blue pen without replacement = 3/8\n",
    "#probability of drawing a black pen = 3/7\n",
    "\n",
    "#Probability of drawing 2 blue pens and 1 black pen without replacement =\n",
    "\n",
    "(4/9) * (3/8) * (3/7)\n"
   ]
  },
  {
   "cell_type": "code",
   "execution_count": 2,
   "metadata": {},
   "outputs": [
    {
     "data": {
      "text/plain": [
       "0.14285714285714285"
      ]
     },
     "execution_count": 2,
     "metadata": {},
     "output_type": "execute_result"
    }
   ],
   "source": [
    "#2) 4 mangoes and 4 oranges,.....the possible outcome is 4+4 = 8,..Probability of sequentially choosing 2 mangoes and 1 orange?\n",
    "#Probability of choosing a mango = 4/8,..Probability of choosing another mango = 3/7\n",
    "#Probability of choosing an orange following the 2nd mango = 4/6\n",
    "\n",
    "#Probability of sequentially choosing 2 mangoes and 1 orange =\n",
    "\n",
    "(4/8)*(3/7)*(4/6)"
   ]
  },
  {
   "cell_type": "code",
   "execution_count": 3,
   "metadata": {},
   "outputs": [
    {
     "data": {
      "text/plain": [
       "0.4"
      ]
     },
     "execution_count": 3,
     "metadata": {},
     "output_type": "execute_result"
    }
   ],
   "source": [
    "#Bag with blue and red balls,...Pr(Blue and Red)= 0.2,..Pr(Blue) first draw= 0.5\n",
    "#Pr(Red after Blue)= Pr(Blue & Red)/Pr(B) =\n",
    "\n",
    "0.2/0.5"
   ]
  }
 ],
 "metadata": {
  "kernelspec": {
   "display_name": "Python 3",
   "language": "python",
   "name": "python3"
  },
  "language_info": {
   "codemirror_mode": {
    "name": "ipython",
    "version": 3
   },
   "file_extension": ".py",
   "mimetype": "text/x-python",
   "name": "python",
   "nbconvert_exporter": "python",
   "pygments_lexer": "ipython3",
   "version": "3.8.5"
  }
 },
 "nbformat": 4,
 "nbformat_minor": 4
}
